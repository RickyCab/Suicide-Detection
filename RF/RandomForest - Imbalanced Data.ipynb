{
 "cells": [
  {
   "cell_type": "markdown",
   "id": "4e6978e5-a472-473d-86bc-46e1b0257545",
   "metadata": {},
   "source": [
    "## Random Forest classifier for suicide detection in texts \n",
    "## (Imbalanced Dataset)\n",
    "##### In this notebook is trated the Imabalanced Dataset after preprocessing and cleaning\n",
    "##### The initial dataset was equally distributed with 232,074 in two classes \n",
    "##### 0: Non-Suicide and 1: Suicide\n",
    "\n",
    "#### Note: Hyperparameter optimization is done using GridSearchCV"
   ]
  },
  {
   "cell_type": "markdown",
   "id": "792a679c-760c-46fe-b017-6b04c1e8c770",
   "metadata": {},
   "source": [
    "#### Import dependencies"
   ]
  },
  {
   "cell_type": "code",
   "execution_count": 16,
   "id": "368f0aca-30bc-4629-967f-4665f007046b",
   "metadata": {},
   "outputs": [],
   "source": [
    "import pandas as pd\n",
    "import numpy as np\n",
    "import matplotlib.pyplot as plt\n",
    "\n",
    "from sklearn.model_selection import train_test_split, cross_validate, GridSearchCV\n",
    "from sklearn.feature_extraction.text import CountVectorizer\n",
    "from sklearn.ensemble import RandomForestClassifier\n",
    "\n",
    "from sklearn.metrics import accuracy_score\n",
    "from sklearn.metrics import precision_score\n",
    "from sklearn.metrics import recall_score\n",
    "from sklearn.metrics import f1_score\n",
    "from sklearn.metrics import confusion_matrix, ConfusionMatrixDisplay"
   ]
  },
  {
   "cell_type": "markdown",
   "id": "ea55d52f-4232-4574-8ad4-1c5e5e8b8f3a",
   "metadata": {},
   "source": [
    "#### Read data"
   ]
  },
  {
   "cell_type": "code",
   "execution_count": 5,
   "id": "a53ae54d-ada9-4417-8635-68de41681f99",
   "metadata": {},
   "outputs": [
    {
     "data": {
      "text/html": [
       "<div>\n",
       "<style scoped>\n",
       "    .dataframe tbody tr th:only-of-type {\n",
       "        vertical-align: middle;\n",
       "    }\n",
       "\n",
       "    .dataframe tbody tr th {\n",
       "        vertical-align: top;\n",
       "    }\n",
       "\n",
       "    .dataframe thead th {\n",
       "        text-align: right;\n",
       "    }\n",
       "</style>\n",
       "<table border=\"1\" class=\"dataframe\">\n",
       "  <thead>\n",
       "    <tr style=\"text-align: right;\">\n",
       "      <th></th>\n",
       "      <th>text</th>\n",
       "      <th>class</th>\n",
       "      <th>cleaned_text</th>\n",
       "    </tr>\n",
       "  </thead>\n",
       "  <tbody>\n",
       "    <tr>\n",
       "      <th>0</th>\n",
       "      <td>Ex Wife Threatening SuicideRecently I left my ...</td>\n",
       "      <td>suicide</td>\n",
       "      <td>ex wife threaten suiciderecently leave wife go...</td>\n",
       "    </tr>\n",
       "    <tr>\n",
       "      <th>1</th>\n",
       "      <td>Am I weird I don't get affected by compliments...</td>\n",
       "      <td>non-suicide</td>\n",
       "      <td>weird not affect compliment come know irl feel...</td>\n",
       "    </tr>\n",
       "    <tr>\n",
       "      <th>2</th>\n",
       "      <td>Finally 2020 is almost over... So I can never ...</td>\n",
       "      <td>non-suicide</td>\n",
       "      <td>finally hear bad year swear fucking god annoying</td>\n",
       "    </tr>\n",
       "    <tr>\n",
       "      <th>3</th>\n",
       "      <td>i need helpjust help me im crying so hard</td>\n",
       "      <td>suicide</td>\n",
       "      <td>need helpjust help cry hard</td>\n",
       "    </tr>\n",
       "    <tr>\n",
       "      <th>4</th>\n",
       "      <td>It ends tonight.I can’t do it anymore. \\nI quit.</td>\n",
       "      <td>suicide</td>\n",
       "      <td>end tonight not anymore quit</td>\n",
       "    </tr>\n",
       "  </tbody>\n",
       "</table>\n",
       "</div>"
      ],
      "text/plain": [
       "                                                text        class  \\\n",
       "0  Ex Wife Threatening SuicideRecently I left my ...      suicide   \n",
       "1  Am I weird I don't get affected by compliments...  non-suicide   \n",
       "2  Finally 2020 is almost over... So I can never ...  non-suicide   \n",
       "3          i need helpjust help me im crying so hard      suicide   \n",
       "4   It ends tonight.I can’t do it anymore. \\nI quit.      suicide   \n",
       "\n",
       "                                        cleaned_text  \n",
       "0  ex wife threaten suiciderecently leave wife go...  \n",
       "1  weird not affect compliment come know irl feel...  \n",
       "2   finally hear bad year swear fucking god annoying  \n",
       "3                        need helpjust help cry hard  \n",
       "4                       end tonight not anymore quit  "
      ]
     },
     "execution_count": 5,
     "metadata": {},
     "output_type": "execute_result"
    }
   ],
   "source": [
    "#df = pd.read_csv('suicide_detection_full_cleaned.csv')\n",
    "df = pd.read_csv('../suicide_detection_final_cleaned.csv')\n",
    "df.head()"
   ]
  },
  {
   "cell_type": "markdown",
   "id": "a697f4bb-b870-4e8c-981f-5cae53ac87e2",
   "metadata": {},
   "source": [
    "#### Checking for data balancing"
   ]
  },
  {
   "cell_type": "code",
   "execution_count": 6,
   "id": "f78bd1ea-8282-4a17-9177-6d53c444d5cc",
   "metadata": {},
   "outputs": [
    {
     "data": {
      "text/plain": [
       "class\n",
       "non-suicide    107066\n",
       "suicide         67902\n",
       "Name: count, dtype: int64"
      ]
     },
     "execution_count": 6,
     "metadata": {},
     "output_type": "execute_result"
    }
   ],
   "source": [
    "# ver articulo sobre este tema en:\n",
    "# https://machinelearningmastery.com/what-is-imbalanced-classification/\n",
    "df['class'].value_counts()"
   ]
  },
  {
   "cell_type": "markdown",
   "id": "5a90d9fd-97e6-4188-a845-90bcfbcca248",
   "metadata": {},
   "source": [
    "#### Converting the fields suicide and non-suicide to 0 and 1"
   ]
  },
  {
   "cell_type": "code",
   "execution_count": 7,
   "id": "2c1f3837-5392-442e-a255-89fd9ace20f1",
   "metadata": {},
   "outputs": [
    {
     "data": {
      "text/plain": [
       "text            object\n",
       "class            int64\n",
       "cleaned_text    object\n",
       "dtype: object"
      ]
     },
     "execution_count": 7,
     "metadata": {},
     "output_type": "execute_result"
    }
   ],
   "source": [
    "df['class']=df['class'].apply(lambda x: 1 if x=='suicide' else 0)\n",
    "df['cleaned_text'] = df['cleaned_text'].astype('U')\n",
    "df.dtypes"
   ]
  },
  {
   "cell_type": "markdown",
   "id": "02db4c2c-061a-4c39-882a-b175f04c796b",
   "metadata": {},
   "source": [
    "#### Division of the data for training and testing"
   ]
  },
  {
   "cell_type": "code",
   "execution_count": 9,
   "id": "fb70b082-8046-47fa-8599-e7d14fcdb65b",
   "metadata": {},
   "outputs": [],
   "source": [
    "X_train, X_test, y_train, y_test = train_test_split(df['cleaned_text'], df['class'])"
   ]
  },
  {
   "cell_type": "markdown",
   "id": "bfd58513-fb94-47cb-94d2-844a35503d0a",
   "metadata": {},
   "source": [
    "#### Vectorize Training Data"
   ]
  },
  {
   "cell_type": "code",
   "execution_count": 10,
   "id": "a075e63b-2195-4be9-8721-b7f2ba26ac82",
   "metadata": {},
   "outputs": [],
   "source": [
    "v = CountVectorizer()\n",
    "X_train_count = v.fit_transform(X_train.values)"
   ]
  },
  {
   "cell_type": "markdown",
   "id": "5cf0d567-d3dc-49e4-971d-2fadf97e3467",
   "metadata": {},
   "source": [
    "#### Checking the cross validation metrics"
   ]
  },
  {
   "cell_type": "code",
   "execution_count": 12,
   "id": "69ae5dd5-9879-4f0f-83e7-cac3a78ab356",
   "metadata": {},
   "outputs": [],
   "source": [
    "forest_clf = RandomForestClassifier(n_estimators=100,\n",
    "                               criterion=\"gini\",\n",
    "                               max_features=\"sqrt\",\n",
    "                               bootstrap=True,\n",
    "                               max_samples=2/3,\n",
    "                               oob_score=True)\n",
    "scoring = ['accuracy', 'precision_macro', 'recall_macro', 'f1_macro']\n",
    "scores = cross_validate(forest_clf, X_train_count, y_train, scoring=scoring, cv=5)"
   ]
  },
  {
   "cell_type": "code",
   "execution_count": 13,
   "id": "e1827b23-42b9-40da-8bb5-e441ae095d5f",
   "metadata": {},
   "outputs": [
    {
     "name": "stdout",
     "output_type": "stream",
     "text": [
      "CV Training Accuracy:  0.902\n",
      "CV Training Precision: 0.898\n",
      "CV Training Precision: 0.895\n",
      "CV Training Precision: 0.896\n"
     ]
    }
   ],
   "source": [
    "print(f'CV Training Accuracy:  {round(scores[\"test_accuracy\"].mean(),3)}')\n",
    "print(f'CV Training Precision: {round(scores[\"test_precision_macro\"].mean(),3)}')\n",
    "print(f'CV Training Precision: {round(scores[\"test_recall_macro\"].mean(),3)}')\n",
    "print(f'CV Training Precision: {round(scores[\"test_f1_macro\"].mean(),3)}')"
   ]
  },
  {
   "cell_type": "markdown",
   "id": "9e0eae19-7bc5-4529-a681-5d1f41ecf571",
   "metadata": {},
   "source": [
    "### Training the model \n",
    "#### I am using GridSearchCV to crossvalidate and optimize\n"
   ]
  },
  {
   "cell_type": "code",
   "execution_count": null,
   "id": "a799f587-680d-4222-9b43-fe48aaf573aa",
   "metadata": {},
   "outputs": [],
   "source": [
    "param_grid = {\n",
    "    'bootstrap': [True],\n",
    "    'max_depth': [80, 90, 100, 110],\n",
    "    'max_features': [2, 3],\n",
    "    'min_samples_leaf': [3, 4, 5],\n",
    "    'min_samples_split': [8, 10, 12],\n",
    "    'n_estimators': [100, 200, 300, 1000]\n",
    "}"
   ]
  },
  {
   "cell_type": "code",
   "execution_count": null,
   "id": "b612e4c8-dea9-4eca-a6ce-0aa08c62cd5e",
   "metadata": {},
   "outputs": [],
   "source": []
  },
  {
   "cell_type": "code",
   "execution_count": null,
   "id": "7b40b006-b096-463b-a961-cd7809b9bac5",
   "metadata": {},
   "outputs": [],
   "source": []
  },
  {
   "cell_type": "code",
   "execution_count": null,
   "id": "0fc3b10c-7a76-444c-a0ff-d66af199f1b4",
   "metadata": {},
   "outputs": [],
   "source": []
  },
  {
   "cell_type": "code",
   "execution_count": null,
   "id": "547c3698-8bb1-4d51-a82a-4cb6915d2909",
   "metadata": {},
   "outputs": [],
   "source": []
  },
  {
   "cell_type": "markdown",
   "id": "c7ea6dea-351f-437d-97e5-c4c603029cb0",
   "metadata": {},
   "source": [
    "### Testing the model: X_test"
   ]
  },
  {
   "cell_type": "code",
   "execution_count": 9,
   "id": "9106840e-2568-40b1-aa0b-f67653cc8ebf",
   "metadata": {},
   "outputs": [
    {
     "data": {
      "text/plain": [
       "0.997348086507247"
      ]
     },
     "execution_count": 9,
     "metadata": {},
     "output_type": "execute_result"
    }
   ],
   "source": [
    "X_test_count = v.transform(X_test)\n",
    "y_pred = forest_clf.predict(X_test_count)\n",
    "y_pred"
   ]
  },
  {
   "cell_type": "code",
   "execution_count": null,
   "id": "b27b20de-2103-437f-8510-ec026ddb256a",
   "metadata": {},
   "outputs": [],
   "source": [
    "print(f\"Test Accuracy:  {round(accuracy_score(y_test,y_pred),2)}\")\n",
    "print(f\"Test Precision: {round(precision_score(y_test,y_pred),2)}\")\n",
    "print(f\"Test Recall:    {round(recall_score(y_test,y_pred),2)}\")\n",
    "print(f\"Test F1:        {round(f1_score(y_test,y_pred),2)}\")"
   ]
  },
  {
   "cell_type": "code",
   "execution_count": null,
   "id": "653682dc-4d8a-4e58-801c-28862a0e62f9",
   "metadata": {},
   "outputs": [],
   "source": [
    "confusion_matrix(y_test,y_pred)"
   ]
  },
  {
   "cell_type": "code",
   "execution_count": null,
   "id": "603cc6b1-4e22-4b83-8151-ff7399119531",
   "metadata": {},
   "outputs": [],
   "source": [
    "cm = confusion_matrix(y_test, y_pred, labels = nb_clf.classes_)\n",
    "disp = ConfusionMatrixDisplay(confusion_matrix=cm, display_labels = nb_clf.classes_)\n",
    "disp.plot()\n",
    "plt.show()"
   ]
  }
 ],
 "metadata": {
  "kernelspec": {
   "display_name": "suplearning",
   "language": "python",
   "name": "suplearning"
  },
  "language_info": {
   "codemirror_mode": {
    "name": "ipython",
    "version": 3
   },
   "file_extension": ".py",
   "mimetype": "text/x-python",
   "name": "python",
   "nbconvert_exporter": "python",
   "pygments_lexer": "ipython3",
   "version": "3.11.7"
  }
 },
 "nbformat": 4,
 "nbformat_minor": 5
}
